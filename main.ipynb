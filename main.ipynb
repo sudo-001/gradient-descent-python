{
 "cells": [
  {
   "cell_type": "code",
   "execution_count": 14,
   "id": "b80074d6",
   "metadata": {},
   "outputs": [
    {
     "name": "stdout",
     "output_type": "stream",
     "text": [
      "Fc = 1015\n",
      "Fc = 83.97\n",
      "Fc = 15.013099999999996\n",
      "Fc = 2.6939609999999994\n",
      "Fc = 0.4834116699999996\n",
      "Fc = 0.08674470449999995\n",
      "Fc = 0.01556570564299999\n",
      "Fc = 0.0027931525452899978\n",
      "Fc = 0.0005012108875878999\n",
      "Fc = 8.993864451129292e-05\n",
      "Fc = 1.6138834923273948e-05\n",
      "Fc = 2.89599642173818e-06\n",
      "Fc = 5.19665472420545e-07\n",
      "Fc = 9.325018539352427e-08\n",
      "Fc = 1.673306682359232e-08\n",
      "Fc = 3.002627009707264e-09\n",
      "Fc = 5.387995550649484e-10\n",
      "Fc = 9.668365721071995e-11\n",
      "Fc = 1.7349178342423093e-11\n",
      "Fc = 3.113183735915084e-12\n",
      "Fc = 5.586381546304727e-13\n",
      "\n",
      "x = 4.2849408512689966e-07\n",
      "y = -1.0115373204652994e-07\n"
     ]
    }
   ],
   "source": [
    "if __name__ == '__main__':\n",
    "    # Fonction to minimise\n",
    "    fc = lambda x, y: (3*x**2) + (x*y) + (5*y**2)\n",
    "\n",
    "    # Set partial derivates\n",
    "    partial_derivate_x = lambda x,y: (6*x) + y\n",
    "    partial_derivate_y = lambda x,y: (10*y) + x\n",
    "\n",
    "    # Set variables\n",
    "    x = 10\n",
    "    y = -13\n",
    "\n",
    "    # Learning rate\n",
    "    learning_rate = 0.1\n",
    "\n",
    "    print(\"Fc = %s\" % (fc(x, y)))\n",
    "\n",
    "    # One epoch is one period of minimisation\n",
    "    for epcoh in range(0,20):\n",
    "        # Compute gradients\n",
    "        x_gradient = partial_derivate_x(x,y)\n",
    "        y_gradient = partial_derivate_y(x,y)\n",
    "\n",
    "        # Apply gradient descent\n",
    "        x = x - learning_rate * x_gradient\n",
    "        y = y - learning_rate * y_gradient\n",
    "\n",
    "        # Keep track od the function value\n",
    "        print(\"Fc = %s\" % (fc(x,y)))\n",
    "\n",
    "    # Print final variables values\n",
    "    print(\"\")\n",
    "    print(\"x = %s\" % x)\n",
    "    print(\"y = %s\" % y) "
   ]
  },
  {
   "cell_type": "code",
   "execution_count": null,
   "id": "94da9116-1eca-41b0-88c7-03adec79ac62",
   "metadata": {},
   "outputs": [],
   "source": []
  }
 ],
 "metadata": {
  "kernelspec": {
   "display_name": "Python 3 (ipykernel)",
   "language": "python",
   "name": "python3"
  },
  "language_info": {
   "codemirror_mode": {
    "name": "ipython",
    "version": 3
   },
   "file_extension": ".py",
   "mimetype": "text/x-python",
   "name": "python",
   "nbconvert_exporter": "python",
   "pygments_lexer": "ipython3",
   "version": "3.12.4"
  }
 },
 "nbformat": 4,
 "nbformat_minor": 5
}
